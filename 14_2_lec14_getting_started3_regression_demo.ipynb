{
  "cells": [
    {
      "cell_type": "markdown",
      "metadata": {
        "id": "view-in-github",
        "colab_type": "text"
      },
      "source": [
        "<a href=\"https://colab.research.google.com/github/Carolyn-Ha/MDST/blob/main/14_2_lec14_getting_started3_regression_demo.ipynb\" target=\"_parent\"><img src=\"https://colab.research.google.com/assets/colab-badge.svg\" alt=\"Open In Colab\"/></a>"
      ]
    },
    {
      "cell_type": "markdown",
      "metadata": {
        "id": "i5bJkbR6F65N"
      },
      "source": [
        "**Notebook credit**: based on the F. Chollet's original notebook [here](https://github.com/fchollet/deep-learning-with-python-notebooks/blob/master/chapter04_getting-started-with-neural-networks.ipynb)."
      ]
    },
    {
      "cell_type": "markdown",
      "source": [
        "### ***Note***\n",
        "- demonstration of K-fold validation\n",
        "- classification <-> regression(outcome is real valued)\n",
        "\n",
        "- small number of data points: to make the good use of the very limited number of data points -> going to do K-fold validation"
      ],
      "metadata": {
        "id": "QpHNZTXihk2L"
      }
    },
    {
      "cell_type": "markdown",
      "metadata": {
        "id": "FjIQ17OZF65d"
      },
      "source": [
        "## Predicting house prices: A regression example\n",
        "\n",
        "We have discussed _regression problems_ before\n",
        "These consist of predicting a continuous value instead of a discrete label:\n",
        "- predicting the temperature tomorrow, given meteorological data\n",
        "- predicting the time that a software project will take to complete, given its specifications\n",
        "\n",
        "However, we only discussed the linear regression case before where our predictions models were *linear*. Deep learning allows us to buil complex *non-linear* prediction models."
      ]
    },
    {
      "cell_type": "markdown",
      "metadata": {
        "id": "0Ti7sOmNF65d"
      },
      "source": [
        "### The Boston Housing Price dataset\n",
        "\n",
        "- we’ll predict the median price of homes in a given Boston suburb in the mid-1970s\n",
        "- features of the suburb include things like the crime rate, the local property tax rate, and so on\n",
        "- it has relatively few data points: only 506, split between 404 training samples and 102 test samples\n",
        "- each feature in the input data (for example, the crime rate) has a different scale\n",
        "  - some values are proportions, which take values between 0 and 1\n",
        "  - others take values between 1 and 12\n",
        "  - others between 0 and 100, and so on."
      ]
    },
    {
      "cell_type": "markdown",
      "metadata": {
        "id": "ahe_jhL5F65e"
      },
      "source": [
        "**Loading the Boston housing dataset**"
      ]
    },
    {
      "cell_type": "code",
      "execution_count": null,
      "metadata": {
        "id": "5B84BsKnF65e"
      },
      "outputs": [],
      "source": [
        "import tensorflow as tf\n",
        "import numpy as np\n",
        "from tensorflow import keras\n",
        "from tensorflow.keras import layers\n",
        "from matplotlib import pyplot as plt"
      ]
    },
    {
      "cell_type": "code",
      "source": [
        "from tensorflow.keras. datasets import boston_housing\n",
        "(train_data, train_targets), (test_data, test_targets) = boston_housing.load_data()"
      ],
      "metadata": {
        "id": "J4obUJiunhQF",
        "colab": {
          "base_uri": "https://localhost:8080/"
        },
        "outputId": "5fba2a27-d48b-4ad7-c8c8-267342d3b279"
      },
      "execution_count": null,
      "outputs": [
        {
          "output_type": "stream",
          "name": "stdout",
          "text": [
            "Downloading data from https://storage.googleapis.com/tensorflow/tf-keras-datasets/boston_housing.npz\n",
            "57026/57026 [==============================] - 0s 0us/step\n"
          ]
        }
      ]
    },
    {
      "cell_type": "code",
      "execution_count": null,
      "metadata": {
        "id": "hWdgxNq8F65e",
        "colab": {
          "base_uri": "https://localhost:8080/"
        },
        "outputId": "98558000-347d-4617-c3ff-f9ff6010ab73"
      },
      "outputs": [
        {
          "output_type": "execute_result",
          "data": {
            "text/plain": [
              "array([[1.23247e+00, 0.00000e+00, 8.14000e+00, ..., 2.10000e+01,\n",
              "        3.96900e+02, 1.87200e+01],\n",
              "       [2.17700e-02, 8.25000e+01, 2.03000e+00, ..., 1.47000e+01,\n",
              "        3.95380e+02, 3.11000e+00],\n",
              "       [4.89822e+00, 0.00000e+00, 1.81000e+01, ..., 2.02000e+01,\n",
              "        3.75520e+02, 3.26000e+00],\n",
              "       ...,\n",
              "       [3.46600e-02, 3.50000e+01, 6.06000e+00, ..., 1.69000e+01,\n",
              "        3.62250e+02, 7.83000e+00],\n",
              "       [2.14918e+00, 0.00000e+00, 1.95800e+01, ..., 1.47000e+01,\n",
              "        2.61950e+02, 1.57900e+01],\n",
              "       [1.43900e-02, 6.00000e+01, 2.93000e+00, ..., 1.56000e+01,\n",
              "        3.76700e+02, 4.38000e+00]])"
            ]
          },
          "metadata": {},
          "execution_count": 3
        }
      ],
      "source": [
        "#1) real valued number\n",
        "train_data\n",
        "\n",
        "#2) train_data.shape = (404, 13)\n",
        "  #(1) 404 data points, each with 13 features"
      ]
    },
    {
      "cell_type": "markdown",
      "source": [
        "There is quite a bit of variation in the ranges that the 13 features lie in. The features themselves are described [here](http://lib.stat.cmu.edu/datasets/boston)."
      ],
      "metadata": {
        "id": "ebsKqow1ZrXA"
      }
    },
    {
      "cell_type": "code",
      "source": [
        "#3) looking at mean, max of every features => for standardization/scaling\n",
        "tf.reduce_min(train_data, axis=0).numpy()"
      ],
      "metadata": {
        "id": "sVTWJkVhZJIA",
        "colab": {
          "base_uri": "https://localhost:8080/"
        },
        "outputId": "56a4ba2b-562b-4461-e14e-a2115a855603"
      },
      "execution_count": null,
      "outputs": [
        {
          "output_type": "execute_result",
          "data": {
            "text/plain": [
              "array([6.3200e-03, 0.0000e+00, 4.6000e-01, 0.0000e+00, 3.8500e-01,\n",
              "       3.5610e+00, 2.9000e+00, 1.1296e+00, 1.0000e+00, 1.8800e+02,\n",
              "       1.2600e+01, 3.2000e-01, 1.7300e+00])"
            ]
          },
          "metadata": {},
          "execution_count": 4
        }
      ]
    },
    {
      "cell_type": "code",
      "source": [
        "tf.reduce_max(train_data, axis=0).numpy()"
      ],
      "metadata": {
        "id": "f0pinuwhZgwx",
        "colab": {
          "base_uri": "https://localhost:8080/"
        },
        "outputId": "89fade85-2423-4232-f1b6-c802e41a222a"
      },
      "execution_count": null,
      "outputs": [
        {
          "output_type": "execute_result",
          "data": {
            "text/plain": [
              "array([ 88.9762, 100.    ,  27.74  ,   1.    ,   0.871 ,   8.725 ,\n",
              "       100.    ,  10.7103,  24.    , 711.    ,  22.    , 396.9   ,\n",
              "        37.97  ])"
            ]
          },
          "metadata": {},
          "execution_count": 5
        }
      ]
    },
    {
      "cell_type": "code",
      "execution_count": null,
      "metadata": {
        "id": "hXb6oHhoF65e",
        "colab": {
          "base_uri": "https://localhost:8080/"
        },
        "outputId": "890cde29-ca04-4f21-e8e7-9c6ac686e1c3"
      },
      "outputs": [
        {
          "output_type": "execute_result",
          "data": {
            "text/plain": [
              "(102, 13)"
            ]
          },
          "metadata": {},
          "execution_count": 6
        }
      ],
      "source": [
        "#4) looking at test dataset\n",
        "test_data.shape"
      ]
    },
    {
      "cell_type": "code",
      "execution_count": null,
      "metadata": {
        "id": "3B_XCGNGF65e",
        "colab": {
          "base_uri": "https://localhost:8080/"
        },
        "outputId": "17e10dc7-2374-478f-e300-8bbd7f63287b"
      },
      "outputs": [
        {
          "output_type": "execute_result",
          "data": {
            "text/plain": [
              "array([15.2, 42.3, 50. , 21.1, 17.7, 18.5, 11.3, 15.6, 15.6, 14.4])"
            ]
          },
          "metadata": {},
          "execution_count": 7
        }
      ],
      "source": [
        "train_targets[:10]"
      ]
    },
    {
      "cell_type": "code",
      "source": [
        "[train_targets.min(), train_targets.max()]\n",
        "  #(1) found out that price is in the range of $5000~$50,000"
      ],
      "metadata": {
        "id": "mZuZqzpeaE0x",
        "colab": {
          "base_uri": "https://localhost:8080/"
        },
        "outputId": "7180671f-adbf-401b-a15f-8a2acc39e772"
      },
      "execution_count": null,
      "outputs": [
        {
          "output_type": "execute_result",
          "data": {
            "text/plain": [
              "[5.0, 50.0]"
            ]
          },
          "metadata": {},
          "execution_count": 8
        }
      ]
    },
    {
      "cell_type": "markdown",
      "metadata": {
        "id": "rUFU_py4F65e"
      },
      "source": [
        "### Preparing the data\n",
        "\n",
        "- widespread best practice is to do **feature-wise normalization**\n",
        "- for each feature in the input data (a column in the input data matrix):\n",
        "  - subtract the mean of the feature, and\n",
        "  - divide by the standard deviation\n",
        "- after this normalization, every feature is centered around 0 and has a unit standard deviation"
      ]
    },
    {
      "cell_type": "markdown",
      "metadata": {
        "id": "mBRzXtYHF65e"
      },
      "source": [
        "**Normalizing the data**"
      ]
    },
    {
      "cell_type": "code",
      "execution_count": null,
      "metadata": {
        "id": "0rDnTbfmF65e"
      },
      "outputs": [],
      "source": [
        "mean = train_data.mean(axis=0)\n",
        "train_data -= mean\n",
        "  #(1) removing the mean across all columns\n",
        "std = train_data.std(axis=0)\n",
        "train_data /= std\n",
        "\n",
        "test_data -= mean\n",
        "  #(1) even though I calculated the mean only across the train data -> use the same mean to subtract (so that it wouldn't be scaled differently)\n",
        "    # = doing the exact same transformation across train & test data\n",
        "test_data /= std"
      ]
    },
    {
      "cell_type": "markdown",
      "metadata": {
        "id": "I1Gehu8PF65e"
      },
      "source": [
        "### Building your model\n",
        "\n",
        "- because few samples are available, we'll use a very small model\n",
        "- two intermediate layers, each with 64 units\n",
        "- the less training data you have, the worse overfitting will be\n",
        "- using a small model is one way to mitigate overfitting"
      ]
    },
    {
      "cell_type": "markdown",
      "metadata": {
        "id": "AGMQtqC7F65e"
      },
      "source": [
        "**Model definition**\n",
        "\n",
        "`\"mse\"` = mean squared error\n",
        "\n",
        "`\"mae\"` = mean absolute error"
      ]
    },
    {
      "cell_type": "code",
      "execution_count": null,
      "metadata": {
        "id": "IdDHKQDTF65f"
      },
      "outputs": [],
      "source": [
        "def build_model():\n",
        "    model = keras.Sequential([\n",
        "        layers.Dense(64, activation=\"relu\"),\n",
        "        layers.Dense(64, activation=\"relu\"),\n",
        "        layers.Dense(1) # final layer is linear\n",
        "          #don't do softmax, sigmoid: but just output the real value\n",
        "    ])\n",
        "    model.compile(optimizer=\"rmsprop\", loss=\"mse\", metrics=[\"mae\"])\n",
        "    return model"
      ]
    },
    {
      "cell_type": "markdown",
      "metadata": {
        "id": "4EmilwrkF65f"
      },
      "source": [
        "### Validating your approach using K-fold validation\n",
        "\n",
        "\n",
        "- to select number of epochs used for training, we could split the data into a training set and a validation set, as we did in the IMDB example\n",
        "- but we have so few data points\n",
        "- validation set would end up being very small (e.g., about 100 examples\n",
        "- validation scores might change a lot depending on which data points we chose for validation and which we chose for training\n",
        "- the validation scores might have a high variance with regard to the validation split\n",
        "- would prevent us from reliably evaluating our model.\n",
        "- best practice in such situations is to use K-fold cross-validation (see figure 4.8)\n",
        "\n",
        "<img src=\"https://github.com/ambujtewari/stats315-winter2022/raw/main/images/k-fold.png\" width=\"500\">"
      ]
    },
    {
      "cell_type": "markdown",
      "metadata": {
        "id": "chIRlckkF65f"
      },
      "source": [
        "**K-fold validation**"
      ]
    },
    {
      "cell_type": "code",
      "execution_count": null,
      "metadata": {
        "id": "0dcT2kf3F65f",
        "colab": {
          "base_uri": "https://localhost:8080/"
        },
        "outputId": "1811e90c-6e25-49db-abc4-679415a93eb1"
      },
      "outputs": [
        {
          "output_type": "stream",
          "name": "stdout",
          "text": [
            "Processing fold #0\n"
          ]
        }
      ],
      "source": [
        "#four-fold validation\n",
        "\n",
        "k = 4\n",
        "num_val_samples = len(train_data) // k\n",
        "num_epochs = 50 # don't know yet if this is a good choice\n",
        "all_scores = []\n",
        "for i in range(k):\n",
        "    print(f\"Processing fold #{i}\")\n",
        "\n",
        "      #(1) indexing the same data & targets: so that data and targets are paired\n",
        "    val_data = train_data[i * num_val_samples : (i+1) * num_val_samples]\n",
        "    val_targets = train_targets[i * num_val_samples : (i+1) * num_val_samples]\n",
        "\n",
        "      #(2) everything other than val_data, val_target: would be train data & train_targets\n",
        "    partial_train_data = np.concatenate(\n",
        "        [train_data[:i * num_val_samples],\n",
        "         train_data[(i+1) * num_val_samples:]],\n",
        "        axis=0\n",
        "    )\n",
        "\n",
        "    partial_train_targets = np.concatenate(\n",
        "        [train_targets[:i * num_val_samples],\n",
        "         train_targets[(i+1) * num_val_samples:]],\n",
        "        axis=0\n",
        "    )\n",
        "    model = build_model()\n",
        "    model.fit(partial_train_data, partial_train_targets,\n",
        "              epochs=num_epochs, batch_size=16, verbose=0)\n",
        "        # verbose=0: during training, there will be no output to the console regarding the training progress (silent mode)\n",
        "\n",
        "      #(3) evaluating based on the validation data that we singled out\n",
        "    val_mse, val_mae = model.evaluate(val_data, val_targets, verbose=0)\n",
        "    all_scores.append(val_mae)"
      ]
    },
    {
      "cell_type": "code",
      "execution_count": null,
      "metadata": {
        "id": "CqRAVcXdF65f"
      },
      "outputs": [],
      "source": [
        "all_scores"
      ]
    },
    {
      "cell_type": "code",
      "execution_count": null,
      "metadata": {
        "id": "J80JjEmOF65f"
      },
      "outputs": [],
      "source": [
        "#1) mean of all the scores => aggregating the scores\n",
        "  #(1) use this score to play with epochs, NN size & depth\n",
        "np.mean(all_scores)"
      ]
    },
    {
      "cell_type": "markdown",
      "source": [
        "- different runs do indeed show rather different validation scores\n",
        "- average validation score is a much more reliable metric than any single score\n",
        "- how much are we off on average?\n",
        "- is it significant? (recall that prices range from 5k to 50k)"
      ],
      "metadata": {
        "id": "S94wnScTucUG"
      }
    },
    {
      "cell_type": "markdown",
      "metadata": {
        "id": "nSt-gYfsF65f"
      },
      "source": [
        "**Saving the validation logs at each fold**"
      ]
    },
    {
      "cell_type": "code",
      "execution_count": null,
      "metadata": {
        "id": "Iys_97zQF65g"
      },
      "outputs": [],
      "source": [
        "num_epochs = 300 # don't know yet if this is a good choice\n",
        "all_mae_histories = [] # store entire mae history in training as opposed to a single number\n",
        "for i in range(k):\n",
        "    print(f\"Processing fold #{i}\")\n",
        "    val_data = train_data[i * num_val_samples : (i+1) * num_val_samples]\n",
        "    val_targets = train_targets[i * num_val_samples : (i+1) * num_val_samples]\n",
        "    partial_train_data = np.concatenate(\n",
        "        [train_data[:i * num_val_samples],\n",
        "         train_data[(i+1) * num_val_samples:]],\n",
        "        axis=0\n",
        "    )\n",
        "    partial_train_targets = np.concatenate(\n",
        "        [train_targets[:i * num_val_samples],\n",
        "         train_targets[(i+1) * num_val_samples:]],\n",
        "        axis=0\n",
        "    )\n",
        "    model = build_model()\n",
        "    history = model.fit(partial_train_data, partial_train_targets,\n",
        "              epochs=num_epochs, batch_size=16, verbose=0)\n",
        "    mae_history = history.history[\"mae\"]\n",
        "    all_mae_histories.append(mae_history)\n",
        "\n",
        "  # same code: but want to save all mae histories\n",
        "    #(1) record every history of mean absolute error\n",
        "    #(2) reason for recording the errors: to give some even more stability\n",
        "      # - want to look at MAE over the whole procedure as opposed to just one single number"
      ]
    },
    {
      "cell_type": "code",
      "source": [
        "len(all_mae_histories)\n",
        "\n",
        "all_mae_histories\n",
        "  #(1) list of 4 lists: every single list will have the MAE numbers"
      ],
      "metadata": {
        "id": "xbEAcsGwfd-Q"
      },
      "execution_count": null,
      "outputs": []
    },
    {
      "cell_type": "code",
      "source": [
        "#averaging the whole list\n",
        "  #(1) for the first 9 times steps: going to prince where the average MAE\n",
        "  #(2) first few average MAE scores will be large\n",
        "for i in range(9):\n",
        "    mean  = np.mean([x[i] for x in all_mae_histories])\n",
        "    print(f\"{mean}\", end = \" \")"
      ],
      "metadata": {
        "id": "gFSJ_Muuf3Yq",
        "colab": {
          "base_uri": "https://localhost:8080/"
        },
        "outputId": "e6754a6d-75dc-478f-fc7d-c15140930893"
      },
      "execution_count": null,
      "outputs": [
        {
          "output_type": "stream",
          "name": "stdout",
          "text": [
            "20.51292848587036 17.042250156402588 12.831626892089844 8.672714948654175 6.184908628463745 4.947079300880432 4.168828129768372 3.6908249258995056 3.4063934683799744 "
          ]
        }
      ]
    },
    {
      "cell_type": "markdown",
      "metadata": {
        "id": "v37ieiXXF65g"
      },
      "source": [
        "**Building the history of successive mean K-fold validation scores**"
      ]
    },
    {
      "cell_type": "code",
      "execution_count": null,
      "metadata": {
        "id": "To-F0UUEF65g"
      },
      "outputs": [],
      "source": [
        "#for each epoch: calculate the whole history\n",
        "\n",
        "average_mae_history = [\n",
        "    np.mean([x[i] for x in all_mae_histories])\n",
        "    for i in range(num_epochs)\n",
        "]"
      ]
    },
    {
      "cell_type": "markdown",
      "metadata": {
        "id": "z6XaXFPqF65g"
      },
      "source": [
        "**Plotting validation scores**"
      ]
    },
    {
      "cell_type": "code",
      "execution_count": null,
      "metadata": {
        "id": "d-whD1ZNF65g",
        "colab": {
          "base_uri": "https://localhost:8080/",
          "height": 449
        },
        "outputId": "bffd7fd1-8f17-47d8-b370-54386f65e90b"
      },
      "outputs": [
        {
          "output_type": "display_data",
          "data": {
            "text/plain": [
              "<Figure size 640x480 with 1 Axes>"
            ],
            "image/png": "[encoded data removed]"
          },
          "metadata": {}
        }
      ],
      "source": [
        "plt.plot(range(len(average_mae_history)), average_mae_history)\n",
        "plt.xlabel(\"Epochs\")\n",
        "plt.ylabel(\"Validation MAE\")\n",
        "plt.show()"
      ]
    },
    {
      "cell_type": "markdown",
      "source": [
        "- as we saw earlier, the first 10 data points have high validation MAE\n",
        "- makes it a little difficult to read the plot\n",
        "- let's replot after omitting the first 10 points"
      ],
      "metadata": {
        "id": "THAWOSH4iN9q"
      }
    },
    {
      "cell_type": "markdown",
      "metadata": {
        "id": "VKeJ44glF65g"
      },
      "source": [
        "**Plotting validation scores, excluding the first 10 data points**"
      ]
    },
    {
      "cell_type": "code",
      "execution_count": null,
      "metadata": {
        "id": "1sIZLTgzF65g",
        "colab": {
          "base_uri": "https://localhost:8080/",
          "height": 449
        },
        "outputId": "f4b9a039-1d01-4ec0-b98a-1e9ebef57bea"
      },
      "outputs": [
        {
          "output_type": "display_data",
          "data": {
            "text/plain": [
              "<Figure size 640x480 with 1 Axes>"
            ],
            "image/png": "[encoded data removed]"
          },
          "metadata": {}
        }
      ],
      "source": [
        "#truncated(잘린) => truncated_mae_history: 앞 10개(mae가 클 것이기 때문에) 제외한 mae history\n",
        "truncated_mae_history = average_mae_history[10:]\n",
        "plt.plot(range(10, len(average_mae_history)), truncated_mae_history)\n",
        "plt.xlabel(\"Epochs\")\n",
        "plt.ylabel(\"Validation MAE\")\n",
        "plt.show()"
      ]
    },
    {
      "cell_type": "markdown",
      "source": [
        "- validation MAE stops improving significantly after 120–140 epochs\n",
        "- past that point, we start *overfitting*\n"
      ],
      "metadata": {
        "id": "vGj7rNDiilCS"
      }
    },
    {
      "cell_type": "markdown",
      "metadata": {
        "id": "9c2kSlR7F65g"
      },
      "source": [
        "**Training the final model**\n",
        "\n",
        "- Here we only tuned number of epochs\n",
        "- you could also adjust the size of the intermediate layers\n",
        "- once you're finished tuning, you can train a final production model\n",
        "- this will use _all_ of the training data\n",
        "- it will use the best choices for tuning parameters (e.g., 130 for epochs in our case)\n",
        "- you will evaluate its performance on the test data (that we haven't touched at all so far)"
      ]
    },
    {
      "cell_type": "code",
      "execution_count": null,
      "metadata": {
        "id": "MlbzzypLF65g",
        "colab": {
          "base_uri": "https://localhost:8080/"
        },
        "outputId": "867a74fe-1d43-449d-9f95-617c4ebdd856"
      },
      "outputs": [
        {
          "output_type": "stream",
          "name": "stdout",
          "text": [
            "4/4 [==============================] - 0s 4ms/step - loss: 15.8273 - mae: 2.5961\n"
          ]
        }
      ],
      "source": [
        "#variation:\n",
        "  #(1) change number of epochs(epoch = one complete pass through the entire training dataset during the training of a NN)\n",
        "  #(2) change the intermediate layers(NN architecture)\n",
        "    #=> do the same process with different number of epochs: figure out which combination of hyperparameters will give you the lowest validation MAE\n",
        "    #=> after finding the best hyperparameter: use that to build the final model -> evaluate on the test dataset(train with the whole dataset & test it on the test dataset)\n",
        "\n",
        "\n",
        "#1) no longer using partial training data => but use the whole datas\n",
        "model = build_model()\n",
        "model.fit(train_data, train_targets,\n",
        "          epochs = 130, batch_size=16, verbose=0)\n",
        "\n",
        "#2) testing on the test set that we have not touched before\n",
        "test_mse_score, test_mae_score = model.evaluate(test_data, test_targets)"
      ]
    },
    {
      "cell_type": "code",
      "execution_count": null,
      "metadata": {
        "id": "9gdpCw-NF65h",
        "colab": {
          "base_uri": "https://localhost:8080/"
        },
        "outputId": "0d8a218a-2e94-4def-8dc8-51717e0f7cca"
      },
      "outputs": [
        {
          "output_type": "execute_result",
          "data": {
            "text/plain": [
              "2.5960752964019775"
            ]
          },
          "metadata": {},
          "execution_count": 36
        }
      ],
      "source": [
        "test_mae_score\n",
        "\n",
        "#test_mae > validation_mae: since test dataset is the dataset that you have never seen before\n",
        "#test_mse > validation_mse: mse(mean squared error)"
      ]
    },
    {
      "cell_type": "markdown",
      "metadata": {
        "id": "zw8R7Tj9F65h"
      },
      "source": [
        "### Generating predictions on new data"
      ]
    },
    {
      "cell_type": "code",
      "execution_count": null,
      "metadata": {
        "id": "SYomyUGEF65h",
        "colab": {
          "base_uri": "https://localhost:8080/"
        },
        "outputId": "890c0440-21a0-4954-f038-83c0ea33374e"
      },
      "outputs": [
        {
          "output_type": "stream",
          "name": "stdout",
          "text": [
            "4/4 [==============================] - 0s 3ms/step\n"
          ]
        },
        {
          "output_type": "execute_result",
          "data": {
            "text/plain": [
              "array([18.374851], dtype=float32)"
            ]
          },
          "metadata": {},
          "execution_count": 37
        }
      ],
      "source": [
        "predictions = model.predict(test_data)\n",
        "predictions[10] # prediction for the 10th house in test set"
      ]
    }
  ],
  "metadata": {
    "colab": {
      "provenance": [],
      "gpuType": "T4",
      "include_colab_link": true
    },
    "kernelspec": {
      "display_name": "Python 3",
      "name": "python3"
    },
    "language_info": {
      "codemirror_mode": {
        "name": "ipython",
        "version": 3
      },
      "file_extension": ".py",
      "mimetype": "text/x-python",
      "name": "python",
      "nbconvert_exporter": "python",
      "pygments_lexer": "ipython3",
      "version": "3.7.0"
    },
    "accelerator": "GPU"
  },
  "nbformat": 4,
  "nbformat_minor": 0
}