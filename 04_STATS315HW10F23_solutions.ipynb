{
  "nbformat": 4,
  "nbformat_minor": 0,
  "metadata": {
    "colab": {
      "provenance": [],
      "gpuType": "T4",
      "include_colab_link": true
    },
    "kernelspec": {
      "name": "python3",
      "display_name": "Python 3"
    },
    "language_info": {
      "name": "python"
    },
    "accelerator": "GPU"
  },
  "cells": [
    {
      "cell_type": "markdown",
      "metadata": {
        "id": "view-in-github",
        "colab_type": "text"
      },
      "source": [
        "<a href=\"https://colab.research.google.com/github/Carolyn-Ha/MDST/blob/main/04_STATS315HW10F23_solutions.ipynb\" target=\"_parent\"><img src=\"https://colab.research.google.com/assets/colab-badge.svg\" alt=\"Open In Colab\"/></a>"
      ]
    },
    {
      "cell_type": "code",
      "execution_count": null,
      "metadata": {
        "id": "qE_dOUBSriPR"
      },
      "outputs": [],
      "source": [
        "import tensorflow as tf\n",
        "import numpy as np\n",
        "from tensorflow import keras\n",
        "from tensorflow.keras import layers\n",
        "from matplotlib import pyplot as plt\n",
        "from sklearn.model_selection import train_test_split\n",
        "from sklearn.preprocessing import StandardScaler\n",
        "# from keras.utils.np_utils import to_categorical\n",
        "from tensorflow.keras.datasets import mnist\n",
        "import pickle\n",
        "import cv2"
      ]
    },
    {
      "cell_type": "markdown",
      "source": [
        "An important aspect of deep learning is to convert a conceptual idea of neural network or a neural architecture into code. This motivates the idea of blocks. Many neural network models use many blocks (which are a collection of layers) to build the neural network. Let's further explore this idea.\n",
        "\n",
        "---\n",
        "\n",
        "Suppose we want to implement the following block\n",
        "\n",
        "<img src='https://drive.google.com/uc?id=1Eu6XK96JwDJA0r_qBDkmpU5IihSJQYja' width = 400>\n",
        "\n",
        "I would write the following code to implement this block. And this block can be used a building blocks for a complex neural network."
      ],
      "metadata": {
        "id": "OZGIVBwTXOFA"
      }
    },
    {
      "cell_type": "code",
      "source": [
        "class ExampleBlock(keras.Model):\n",
        "  def __init__(self):\n",
        "    super(ExampleBlock, self).__init__()\n",
        "    self.dense1 = layers.Dense(64, activation='relu',\n",
        "                               kernel_initializer = tf.keras.initializers.RandomNormal(mean=0.0, stddev=0.05, seed=100))\n",
        "    self.dense2 = layers.Dense(64, activation = \"relu\",\n",
        "                               kernel_initializer = tf.keras.initializers.RandomNormal(mean=0.0, stddev=0.05, seed=100))\n",
        "\n",
        "  def call(self, x):\n",
        "    weighted_x = self.dense1(x)\n",
        "    weighted_x = self.dense2(weighted_x)\n",
        "    return weighted_x"
      ],
      "metadata": {
        "id": "qxFWPlYfSK2C"
      },
      "execution_count": null,
      "outputs": []
    },
    {
      "cell_type": "code",
      "source": [
        "blk = ExampleBlock()\n",
        "X = tf.random.normal((1, 32, 32, 3))\n",
        "Y = blk(X)\n",
        "Y.shape"
      ],
      "metadata": {
        "colab": {
          "base_uri": "https://localhost:8080/"
        },
        "id": "U7VfIPm_XCc1",
        "outputId": "87931a8e-0b0b-41d5-c5ef-ba172860f1ee"
      },
      "execution_count": null,
      "outputs": [
        {
          "output_type": "execute_result",
          "data": {
            "text/plain": [
              "TensorShape([1, 32, 32, 64])"
            ]
          },
          "metadata": {},
          "execution_count": 3
        }
      ]
    },
    {
      "cell_type": "markdown",
      "source": [
        "# Question 1 - Residual Block Implementation (20 points)\n"
      ],
      "metadata": {
        "id": "F3fbJLvphyqU"
      }
    },
    {
      "cell_type": "markdown",
      "source": [
        "Similarly, using the following flowchart, fill in the ```__init__()``` and ```call()``` for the ResidualBlock class\n",
        "\n",
        "<img src='https://drive.google.com/uc?id=1P5nKQUh3IA-yGFScOtt9oJb9pTTmB3rC' width = 400>\n",
        "\n",
        "The left flowchart is the ResidualBlock Architecture for when ``` self_conv = False ``` and the right flowchart is when ```self_conv = True```. ```filters``` is a list of filters for the respective convolutional layers.\n",
        "\n",
        "\n",
        "In the flowchart, we can see a batch normalization layer. This layer is added to make training faster and more stable by recentering and rescaling the network inputs.\n",
        "\n",
        "Please remember to set ```kernel_initializer = tf.keras.initializers.RandomNormal(mean=0.0, stddev=0.05, seed=100)``` in your Convolutional layers to make the results reproducible."
      ],
      "metadata": {
        "id": "HpMAO5s_uCdD"
      }
    },
    {
      "cell_type": "code",
      "source": [
        "tf.random.set_seed(100)\n",
        "\n",
        "class ResidualBlock(keras.Model):\n",
        "  def __init__(self, filters, self_conv):\n",
        "    super(ResidualBlock, self).__init__()\n",
        "    self.__convolved = self_conv\n",
        "    strides = [1, 1]\n",
        "    if self_conv:\n",
        "      strides = [2, 1]\n",
        "    self.conv1 = tf.keras.layers.Conv2D(filters = filters[0], padding='same',\n",
        "                                        kernel_size=3, strides = strides[0],\n",
        "                                        kernel_initializer = tf.keras.initializers.RandomNormal(mean=0.0, stddev=0.05, seed=100))\n",
        "    self.conv2 = tf.keras.layers.Conv2D(filters = filters[1], kernel_size=3,\n",
        "                                        padding='same', strides = strides[1],\n",
        "                                        kernel_initializer = tf.keras.initializers.RandomNormal(mean=0.0, stddev=0.05, seed=100))\n",
        "\n",
        "    self.bn1 = tf.keras.layers.BatchNormalization()\n",
        "    self.bn2 = tf.keras.layers.BatchNormalization()\n",
        "    if self_conv:\n",
        "      self.conv3 = tf.keras.layers.Conv2D(filters = filters[2], padding='same',\n",
        "                                        kernel_size=1, strides = strides[0],\n",
        "                                        kernel_initializer = tf.keras.initializers.RandomNormal(mean=0.0, stddev=0.05, seed=100))\n",
        "      self.bn3 = tf.keras.layers.BatchNormalization()\n",
        "\n",
        "  def call(self, x):\n",
        "    input = x\n",
        "    weighted_x = tf.keras.activations.relu(self.bn1(self.conv1(x)))\n",
        "    weighted_x = self.bn2(self.conv2(weighted_x))\n",
        "    if self.__convolved:\n",
        "      input = self.bn3(self.conv3(input))\n",
        "    Y = tf.keras.layers.Add()([input, weighted_x])\n",
        "    return tf.keras.activations.relu(Y)\n",
        "\n",
        "\n",
        "X = np.ones((1, 32, 32, 3))\n",
        "block_2 = ResidualBlock([16, 3], False)\n",
        "Y_2 = block_2(X)\n",
        "print(tf.shape(Y_2))\n",
        "print(Y_2[0, 0, 0])\n",
        "\n",
        "block_3 = ResidualBlock([16, 3, 3], True)\n",
        "Y_3 = block_3(X)\n",
        "print(tf.shape(Y_3))\n",
        "print(Y_3[0, 0, 0])"
      ],
      "metadata": {
        "colab": {
          "base_uri": "https://localhost:8080/"
        },
        "id": "fUmEOoOkuYor",
        "outputId": "162c9146-44c5-4c9d-b847-0b65475adc96"
      },
      "execution_count": null,
      "outputs": [
        {
          "output_type": "stream",
          "name": "stdout",
          "text": [
            "tf.Tensor([ 1 32 32  3], shape=(4,), dtype=int32)\n",
            "tf.Tensor([1.105336  1.0558189 1.1299278], shape=(3,), dtype=float32)\n",
            "tf.Tensor([ 1 16 16  3], shape=(4,), dtype=int32)\n",
            "tf.Tensor([0.2968465  0.         0.10195874], shape=(3,), dtype=float32)\n"
          ]
        }
      ]
    },
    {
      "cell_type": "markdown",
      "source": [
        "# Question 2 - ResNet18 Implmentation (30 points)"
      ],
      "metadata": {
        "id": "S4Gljiq7oj4K"
      }
    },
    {
      "cell_type": "markdown",
      "source": [
        "ResNet or Residual Network is a very popular Convolutional Neural network. It uses the concept of skip connections (as seen in Question 2) which adds the input with the output when the input goes through a bunch of convolutonal layers. This addition is key when some of the higher layers don't produce anything meaningful, the lower layers in the architechture still have a chance to perform well with the input. So, say the input passes through some convolutional layers and the output is 0. By adding the input back, we are giving the next convolutional layers some meaningful input.\n",
        "\n",
        "In this question, you will be asked to build ResNet18 which contains 18 convolutonal layers in total. You will be using the Cifar10 dataset to train the model. This dataset contains 60,000 32*32 color images (so it has 3 channels). These are the classes in the dataset - airplane, automobile, bird, cat, deer, dog, frog, horse, ship, and truck."
      ],
      "metadata": {
        "id": "7njgcVRf-8P5"
      }
    },
    {
      "cell_type": "code",
      "source": [
        "from keras.datasets import cifar10\n",
        "from sklearn.preprocessing import OneHotEncoder\n",
        "from sklearn.model_selection import train_test_split\n",
        "\n",
        "(X_train_old, Y_train_old), (X_test_old, Y_test_old) = cifar10.load_data()"
      ],
      "metadata": {
        "colab": {
          "base_uri": "https://localhost:8080/"
        },
        "id": "odrFmVk4WylY",
        "outputId": "316244d6-e46b-454b-fa1c-1005b697a06d"
      },
      "execution_count": null,
      "outputs": [
        {
          "output_type": "stream",
          "name": "stdout",
          "text": [
            "Downloading data from https://www.cs.toronto.edu/~kriz/cifar-10-python.tar.gz\n",
            "170498071/170498071 [==============================] - 18s 0us/step\n"
          ]
        }
      ]
    },
    {
      "cell_type": "code",
      "source": [
        "X_train = X_train_old.astype('float32')\n",
        "X_test = X_test_old.astype('float32')\n",
        "print(X_train.shape)\n",
        "\n",
        "X_train, X_val, y_train, y_val = train_test_split(X_train, Y_train_old, test_size=0.2, random_state=42)\n",
        "encoder = OneHotEncoder()\n",
        "encoder.fit(Y_train_old)\n",
        "\n",
        "Y_train = encoder.transform(y_train).toarray()\n",
        "Y_val = encoder.transform(y_val).toarray()\n",
        "\n",
        "Y_test = encoder.transform(Y_test_old).toarray()\n",
        "\n",
        "\n",
        "print(Y_train.shape)"
      ],
      "metadata": {
        "colab": {
          "base_uri": "https://localhost:8080/"
        },
        "id": "duufDqe1W0OE",
        "outputId": "badb6cd2-b095-49b7-96b5-be1c596651bb"
      },
      "execution_count": null,
      "outputs": [
        {
          "output_type": "stream",
          "name": "stdout",
          "text": [
            "(50000, 32, 32, 3)\n",
            "(40000, 10)\n"
          ]
        }
      ]
    },
    {
      "cell_type": "markdown",
      "source": [
        "## Part (a) Data Augmentation (10 points)\n",
        "\n",
        "Before starting to train the ResNet Model, we need to make some modifications to our images. Data Augmentation is a great way to prevent overfitting. We also need to rescale the model to have the pixels be between 0 and 1. Create a sequential model that has 3 layers - a layer that does random horizontal flips, a layer that does random rotations of factor 0.2, and a layer that rescales the images accordingly.\n",
        "\n",
        "Please remember to set the seed argument to 100 for the Random layers."
      ],
      "metadata": {
        "id": "svXba1cja1N9"
      }
    },
    {
      "cell_type": "code",
      "source": [
        "data_aug_preprocess = tf.keras.Sequential([\n",
        "  layers.RandomFlip(\"horizontal\", seed = 100),\n",
        "  layers.RandomRotation(0.2, seed = 100),\n",
        "  layers.Rescaling(1./255)\n",
        "])"
      ],
      "metadata": {
        "id": "-CLo4zira4ka"
      },
      "execution_count": null,
      "outputs": []
    },
    {
      "cell_type": "markdown",
      "source": [
        "## Part (b) Filling in ResNet18 Class (20 points)\n",
        "Use the following flowchart and ResidualBlock class from Question 2 to implement ResNet18\n",
        "\n",
        "<img src='https://drive.google.com/uc?id=1y6DHU48iu54YAeg7ywx7_3zyZKHnbsdY' width = 700>\n",
        "\n",
        "The \"Skip Connection\" parts are the ResidualBlocks where ```self_conv = True```. This flowchart doesn't include the output layer. Please remember to include an appropriate output layer for an image classification problem. ```data_aug``` will take the sequential model with the data augmentation and preprocessing layers\n",
        "\n",
        "Please remember to set ```kernel_initializer = tf.keras.initializers.RandomNormal(mean=0.0, stddev=0.05, seed=100)``` in your Convolutional layers and dense layers to make the results reproducible.\n",
        "\n",
        "Make sure to go to \"Edit\" > \"Notebook Settings\" and select \"GPU\" before running the next few code chunks.\n"
      ],
      "metadata": {
        "id": "iZG92mFxv3EU"
      }
    },
    {
      "cell_type": "code",
      "source": [
        "class ResNet18(keras.Model):\n",
        "  def __init__(self, num_classes, input_shape, data_aug):\n",
        "    super(ResNet18, self).__init__()\n",
        "    self.da = data_aug\n",
        "    self.conv1 = tf.keras.layers.Conv2D(filters = 64, kernel_size = 7, strides=2,\n",
        "                             padding=\"same\", kernel_initializer=tf.keras.initializers.RandomNormal(mean=0.0, stddev=0.05, seed=100),\n",
        "                             input_shape = input_shape)\n",
        "    self.before_res_block_bn = tf.keras.layers.BatchNormalization()\n",
        "    self.maxpooling = tf.keras.layers.MaxPool2D(pool_size=(2, 2), strides=2, padding=\"same\")\n",
        "    self.resnetblock_1 = ResidualBlock([64, 64], False)\n",
        "    self.resnetblock_2 = ResidualBlock([64, 64], False)\n",
        "    self.resnetblock_3 = ResidualBlock([128, 128, 128], True)\n",
        "    self.resnetblock_4 = ResidualBlock([128, 128], False)\n",
        "    self.resnetblock_5 = ResidualBlock([256, 256, 256], True)\n",
        "    self.resnetblock_6 = ResidualBlock([256, 256], False)\n",
        "    self.resnetblock_7 = ResidualBlock([512, 512, 512], True)\n",
        "    self.resnetblock_8 = ResidualBlock([512, 512], False)\n",
        "    self.avgpooling = tf.keras.layers.GlobalAveragePooling2D()\n",
        "    self.flat = tf.keras.layers.Flatten()\n",
        "    self.dense = tf.keras.layers.Dense(num_classes, activation=\"softmax\", kernel_initializer=tf.keras.initializers.RandomNormal(mean=0.0, stddev=0.05, seed=100))\n",
        "\n",
        "  def call(self, x):\n",
        "    output = self.da(x)\n",
        "    # output = x\n",
        "    output = self.maxpooling(tf.keras.activations.relu(self.before_res_block_bn(self.conv1(output))))\n",
        "    for res_block in [self.resnetblock_1, self.resnetblock_2, self.resnetblock_3, self.resnetblock_4,\n",
        "                      self.resnetblock_5, self.resnetblock_6, self.resnetblock_7, self.resnetblock_8]:\n",
        "                      output = res_block(output)\n",
        "    output = self.dense(self.flat(self.avgpooling(output)))\n",
        "    return output\n",
        "\n"
      ],
      "metadata": {
        "id": "quZuhmwFpFJB"
      },
      "execution_count": null,
      "outputs": []
    },
    {
      "cell_type": "code",
      "source": [
        "resnet_model = ResNet18(10, (None, 32, 32, 3), data_aug_preprocess)\n",
        "resnet_model.compile(optimizer= \"adam\",\n",
        "                     loss=\"categorical_crossentropy\",\n",
        "                     metrics=[\"categorical_crossentropy\", \"accuracy\"])\n",
        "# resnet_model.build((None, 32, 32, 3))\n",
        "# history = resnet_model.fit(aug.flow(X_train, Y_train, batch_size = 256), batch_size = 256, steps_per_epoch = len(X_train) / 256, epochs = 20,\n",
        "#                 validation_data = (X_val, Y_val))\n",
        "history = resnet_model.fit(X_train, Y_train, batch_size = 256, steps_per_epoch = len(X_train) / 256, epochs = 10,\n",
        "                 validation_data = (X_val, Y_val))"
      ],
      "metadata": {
        "colab": {
          "base_uri": "https://localhost:8080/"
        },
        "id": "R3aibGcfVG5O",
        "outputId": "2a5be1cc-bfaa-4123-8bf5-1952375ecc43"
      },
      "execution_count": null,
      "outputs": [
        {
          "output_type": "stream",
          "name": "stdout",
          "text": [
            "Epoch 1/10\n"
          ]
        },
        {
          "output_type": "stream",
          "name": "stderr",
          "text": [
            "WARNING:tensorflow:AutoGraph could not transform <bound method ResidualBlock.call of <__main__.ResidualBlock object at 0x7ed78bddec80>> and will run it as-is.\n",
            "Cause: mangled names are not yet supported\n",
            "To silence this warning, decorate the function with @tf.autograph.experimental.do_not_convert\n"
          ]
        },
        {
          "output_type": "stream",
          "name": "stdout",
          "text": [
            "WARNING: AutoGraph could not transform <bound method ResidualBlock.call of <__main__.ResidualBlock object at 0x7ed78bddec80>> and will run it as-is.\n",
            "Cause: mangled names are not yet supported\n",
            "To silence this warning, decorate the function with @tf.autograph.experimental.do_not_convert\n",
            "156/156 [==============================] - 25s 64ms/step - loss: 1.7626 - categorical_crossentropy: 1.7626 - accuracy: 0.3810 - val_loss: 3.0541 - val_categorical_crossentropy: 3.0541 - val_accuracy: 0.1653\n",
            "Epoch 2/10\n",
            "156/156 [==============================] - 8s 51ms/step - loss: 1.4927 - categorical_crossentropy: 1.4927 - accuracy: 0.4628 - val_loss: 2.4705 - val_categorical_crossentropy: 2.4705 - val_accuracy: 0.2672\n",
            "Epoch 3/10\n",
            "156/156 [==============================] - 8s 54ms/step - loss: 1.3865 - categorical_crossentropy: 1.3865 - accuracy: 0.5061 - val_loss: 1.4650 - val_categorical_crossentropy: 1.4650 - val_accuracy: 0.4818\n",
            "Epoch 4/10\n",
            "156/156 [==============================] - 8s 54ms/step - loss: 1.2961 - categorical_crossentropy: 1.2961 - accuracy: 0.5367 - val_loss: 1.4398 - val_categorical_crossentropy: 1.4398 - val_accuracy: 0.4904\n",
            "Epoch 5/10\n",
            "156/156 [==============================] - 8s 52ms/step - loss: 1.2231 - categorical_crossentropy: 1.2231 - accuracy: 0.5648 - val_loss: 2.1301 - val_categorical_crossentropy: 2.1301 - val_accuracy: 0.3886\n",
            "Epoch 6/10\n",
            "156/156 [==============================] - 8s 53ms/step - loss: 1.1481 - categorical_crossentropy: 1.1481 - accuracy: 0.5947 - val_loss: 1.3506 - val_categorical_crossentropy: 1.3506 - val_accuracy: 0.5321\n",
            "Epoch 7/10\n",
            "156/156 [==============================] - 8s 54ms/step - loss: 1.0975 - categorical_crossentropy: 1.0975 - accuracy: 0.6077 - val_loss: 1.2264 - val_categorical_crossentropy: 1.2264 - val_accuracy: 0.5663\n",
            "Epoch 8/10\n",
            "156/156 [==============================] - 9s 55ms/step - loss: 1.0550 - categorical_crossentropy: 1.0550 - accuracy: 0.6222 - val_loss: 1.2603 - val_categorical_crossentropy: 1.2603 - val_accuracy: 0.5702\n",
            "Epoch 9/10\n",
            "156/156 [==============================] - 8s 54ms/step - loss: 1.0176 - categorical_crossentropy: 1.0176 - accuracy: 0.6399 - val_loss: 1.2216 - val_categorical_crossentropy: 1.2216 - val_accuracy: 0.5835\n",
            "Epoch 10/10\n",
            "156/156 [==============================] - 8s 53ms/step - loss: 0.9835 - categorical_crossentropy: 0.9835 - accuracy: 0.6512 - val_loss: 1.4782 - val_categorical_crossentropy: 1.4782 - val_accuracy: 0.5381\n"
          ]
        }
      ]
    },
    {
      "cell_type": "code",
      "source": [
        "val_loss_q3 = history.history[\"val_categorical_crossentropy\"]\n",
        "train_loss_q3 = history.history[\"categorical_crossentropy\"]\n",
        "plt.plot(np.arange(1,len(val_loss_q3)+1),val_loss_q3, label=\"val_loss\")\n",
        "plt.plot(np.arange(1,len(train_loss_q3)+1),train_loss_q3, label=\"train loss\")\n",
        "plt.legend()"
      ],
      "metadata": {
        "colab": {
          "base_uri": "https://localhost:8080/",
          "height": 447
        },
        "id": "rDsYpmEv5VXM",
        "outputId": "836d3eba-495b-4d35-de05-dbfa098fcf9e"
      },
      "execution_count": null,
      "outputs": [
        {
          "output_type": "execute_result",
          "data": {
            "text/plain": [
              "<matplotlib.legend.Legend at 0x7ed78bdde3b0>"
            ]
          },
          "metadata": {},
          "execution_count": 10
        },
        {
          "output_type": "display_data",
          "data": {
            "text/plain": [
              "<Figure size 640x480 with 1 Axes>"
            ],
            "image/png": "[encoded data removed]"
          },
          "metadata": {}
        }
      ]
    }
  ]
}