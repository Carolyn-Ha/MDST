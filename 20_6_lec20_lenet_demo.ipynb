{
  "cells": [
    {
      "cell_type": "markdown",
      "metadata": {
        "id": "view-in-github",
        "colab_type": "text"
      },
      "source": [
        "<a href=\"https://colab.research.google.com/github/Carolyn-Ha/MDST/blob/main/20_6_lec20_lenet_demo.ipynb\" target=\"_parent\"><img src=\"https://colab.research.google.com/assets/colab-badge.svg\" alt=\"Open In Colab\"/></a>"
      ]
    },
    {
      "cell_type": "markdown",
      "metadata": {
        "id": "QtZxbW5tmBQm"
      },
      "source": [
        "**Notebook credit**: Based on the original D2L notebook [here](https://github.com/d2l-ai/d2l-tensorflow-colab/blob/master/chapter_convolutional-neural-networks/lenet.ipynb).\n"
      ]
    },
    {
      "cell_type": "markdown",
      "metadata": {
        "origin_pos": 0,
        "id": "z28SxNx1mBQq"
      },
      "source": [
        "# Convolutional Neural Networks (LeNet)\n",
        "\n",
        "We now have all the ingredients required to assemble\n",
        "a fully-functional CNN.\n",
        "In our earlier encounter with image data,\n",
        "we applied\n",
        "a softmax regression model\n",
        "and\n",
        "an MLP model\n",
        "to MNIST dataset.\n",
        "To make such data amenable to softmax regression and MLPs,\n",
        "we first flattened each image from a $28\\times28$ matrix\n",
        "into a fixed-length $784$-dimensional vector,\n",
        "and thereafter processed them with fully-connected layers.\n",
        "Now that we have a handle on convolutional layers,\n",
        "we can retain the spatial structure in our images.\n",
        "As an additional benefit of replacing fully-connected layers with convolutional layers,\n",
        "we will enjoy more parsimonious models that require far fewer parameters.\n",
        "\n",
        "In this section, we will introduce *LeNet*,\n",
        "among the first published CNNs\n",
        "to capture wide attention for its performance on computer vision tasks.\n",
        "The model was introduced by (and named for) Yann LeCun,\n",
        "then a researcher at AT&T Bell Labs,\n",
        "for the purpose of recognizing handwritten digits in images.\n",
        "This work represented the culmination\n",
        "of a decade of research developing the technology.\n",
        "In 1989, LeCun published the first study to successfully\n",
        "train CNNs via backpropagation.\n",
        "\n",
        "\n",
        "At the time LeNet achieved outstanding results\n",
        "matching the performance of support vector machines,\n",
        "then a dominant approach in supervised learning.\n",
        "LeNet was eventually adapted to recognize digits\n",
        "for processing deposits in ATM machines.\n",
        "To this day, some ATMs still run the code\n",
        "that Yann and his colleague Leon Bottou wrote in the 1990s!\n"
      ]
    },
    {
      "cell_type": "markdown",
      "source": [
        "\n",
        "\n",
        "## LeNet\n",
        "\n",
        "At a high level, (**LeNet (LeNet-5) consists of two parts:\n",
        "(i) a convolutional encoder consisting of two convolutional layers; and\n",
        "(ii) a dense block consisting of three fully-connected layers**);\n",
        "The architecture is summarized below.\n",
        "\n",
        "![Data flow in LeNet. The input is a handwritten digit, the output a probability over 10 possible outcomes.](http://d2l.ai/_images/lenet.svg)\n",
        "\n",
        "\n",
        "The basic units in each convolutional block\n",
        "are a convolutional layer, a sigmoid activation function,\n",
        "and a subsequent average pooling operation.\n",
        "Note that while ReLUs and max-pooling work better,\n",
        "these discoveries had not yet been made in the 1990s.\n",
        "Each convolutional layer uses a $5\\times 5$ kernel\n",
        "and a sigmoid activation function.\n",
        "These layers map spatially arranged inputs\n",
        "to a number of two-dimensional feature maps, typically\n",
        "increasing the number of channels.\n",
        "The first convolutional layer has 6 output channels,\n",
        "while the second has 16.\n",
        "Each $2\\times2$ pooling operation (stride 2)\n",
        "reduces dimensionality by a factor of $4$ via spatial downsampling.\n",
        "The convolutional block emits an output with shape given by\n",
        "(batch size, number of channel, height, width).\n",
        "\n",
        "In order to pass output from the convolutional block\n",
        "to the dense block,\n",
        "we must flatten each example in the minibatch.\n",
        "In other words, we take this four-dimensional input and transform it\n",
        "into the two-dimensional input expected by fully-connected layers:\n",
        "as a reminder, the two-dimensional representation that we desire uses the first dimension to index examples in the minibatch\n",
        "and the second to give the flat vector representation of each example.\n",
        "LeNet's dense block has three fully-connected layers,\n",
        "with 120, 84, and 10 outputs, respectively.\n",
        "Because we are still performing classification,\n",
        "the 10-dimensional output layer corresponds\n",
        "to the number of possible output classes.\n",
        "\n",
        "While getting to the point where you truly understand\n",
        "what is going on inside LeNet may have taken a bit of work,\n",
        "hopefully the following code snippet will convince you\n",
        "that implementing such models with modern deep learning frameworks\n",
        "is remarkably simple.\n",
        "We need only to instantiate a `Sequential` block\n",
        "and chain together the appropriate layers.\n"
      ],
      "metadata": {
        "id": "EIIHdUpl7VHV"
      }
    },
    {
      "cell_type": "markdown",
      "source": [
        "### ***Notes***\n",
        "- can try to retain the spatial structure -> so that we can achieve a similar prediction accuracy but with much fewer parameters\n",
        "  - convolutional layer: going to make use of the spatial structure -> use much fewer parameters in general than multi-layer perceptron and dense NN\n",
        "- core difference between convolutional NN & dense NN: we're going to have additional convoltional layer closer to the input\n",
        "  - in the later layer: rely on dense layer when we have prediction, classification task\n",
        "  - earlier layer(when closer to input): rely more on the convolutional layer\n",
        "- map spatially arrange inputs into a number of 2-dimensional feature maps, increasing the number of channels\n",
        "  - as we build general convolutional layers: going to have lower and lower spatial dimensions\n",
        "\n",
        "- Lenet: 3 fully connected layers -> perform classification\n",
        "  - as we go up: the number of channel is going to increase -> but at every single pooling layer, they're going to have the heightened width\n",
        "  - as the number of layers increase -> the number of channels will increase(number of spatial dimensionality is going to decrease)"
      ],
      "metadata": {
        "id": "IoJfq-kLcHp3"
      }
    },
    {
      "cell_type": "code",
      "execution_count": null,
      "metadata": {
        "origin_pos": 3,
        "tab": [
          "tensorflow"
        ],
        "id": "IvdOvY0ZmBQs"
      },
      "outputs": [],
      "source": [
        "import tensorflow as tf\n",
        "from tensorflow import keras\n",
        "from tensorflow.keras import layers"
      ]
    },
    {
      "cell_type": "markdown",
      "metadata": {
        "origin_pos": 4,
        "id": "gOXF-qkHmBQt"
      },
      "source": [
        "We took a small liberty with the original model,\n",
        "removing the Gaussian activation in the final layer.\n",
        "Other than that, this network matches\n",
        "the original LeNet-5 architecture.\n",
        "\n",
        "By passing a single-channel (black and white)\n",
        "$28 \\times 28$ image through the network\n",
        "and printing the output shape at each layer,\n",
        "we can [**inspect the model**] to make sure\n",
        "that its operations line up with\n",
        "what we expect from the figure above.\n",
        "\n",
        "![Compressed notation for LeNet-5.](https://github.com/d2l-ai/d2l-tensorflow-colab/blob/master/img/lenet-vert.svg?raw=1)\n"
      ]
    },
    {
      "cell_type": "markdown",
      "metadata": {
        "origin_pos": 8,
        "id": "78d-m1ygmBQu"
      },
      "source": [
        "Note that the height and width of the representation\n",
        "at each layer throughout the convolutional block\n",
        "is reduced (compared with the previous layer).\n",
        "The first convolutional layer uses 2 pixels of padding\n",
        "to compensate for the reduction in height and width\n",
        "that would otherwise result from using a $5 \\times 5$ kernel.\n",
        "In contrast, the second convolutional layer forgoes padding,\n",
        "and thus the height and width are both reduced by 4 pixels.\n",
        "As we go up the stack of layers,\n",
        "the number of channels increases layer-over-layer\n",
        "from 1 in the input to 6 after the first convolutional layer\n",
        "and 16 after the second convolutional layer.\n",
        "However, each pooling layer halves the height and width.\n",
        "Finally, each fully-connected layer reduces dimensionality,\n",
        "finally emitting an output whose dimension\n",
        "matches the number of classes.\n",
        "\n",
        "\n",
        "\n",
        "## Training\n",
        "\n",
        "Now that we have implemented the model,\n",
        "let us [**run an experiment to see how LeNet fares on Fashion-MNIST**].\n"
      ]
    },
    {
      "cell_type": "code",
      "execution_count": null,
      "metadata": {
        "origin_pos": 9,
        "tab": [
          "tensorflow"
        ],
        "id": "b8-dzxrsmBQv"
      },
      "outputs": [],
      "source": [
        "batch_size = 256\n",
        "(x_train, y_train), (x_test, y_test) = tf.keras.datasets.fashion_mnist.load_data()\n",
        "  #(1) downloading the training data\n",
        "x_train = x_train.astype(\"float32\") / 255\n",
        "x_test = x_test.astype(\"float32\") / 255"
      ]
    },
    {
      "cell_type": "markdown",
      "metadata": {
        "origin_pos": 10,
        "id": "rvZvGGm6mBQv"
      },
      "source": [
        "While CNNs have fewer parameters,\n",
        "they can still be more expensive to compute\n",
        "than similarly deep MLPs\n",
        "because each parameter participates in many more\n",
        "multiplications.\n",
        "**If you have access to a GPU, this might be a good time\n",
        "to put it into action to speed up training.**"
      ]
    },
    {
      "cell_type": "markdown",
      "metadata": {
        "origin_pos": 18,
        "id": "DmukZOj7mBQx"
      },
      "source": [
        "[**Now let us train and evaluate the LeNet-5 model.**]\n"
      ]
    },
    {
      "cell_type": "code",
      "execution_count": null,
      "metadata": {
        "origin_pos": 19,
        "tab": [
          "tensorflow"
        ],
        "id": "GqZC5QLamBQx"
      },
      "outputs": [],
      "source": [
        "num_epochs = 20\n",
        "\n",
        "model = keras.Sequential([\n",
        "    layers.Conv2D(filters=6, kernel_size=5, activation='sigmoid',\n",
        "                  padding='same', input_shape=(28, 28, 1)),\n",
        "                  #(1) output size = input size -> specifically mention the input size\n",
        "    layers.AvgPool2D(pool_size=2, strides=2),\n",
        "    layers.Conv2D(filters=16, kernel_size=5, activation='sigmoid'),\n",
        "                  #(2) change the filter size(increase)\n",
        "    layers.AvgPool2D(pool_size=2, strides=2),\n",
        "    layers.Flatten(),\n",
        "      #(3) when moving from convolutional NN -> dense NN: need to flatten & destroy the spatial structure\n",
        "    layers.Dense(120, activation='sigmoid'),\n",
        "    layers.Dense(84, activation='sigmoid'),\n",
        "    layers.Dense(10, activation='softmax')\n",
        "      #(4) since we are doing classification, last layer's activation function should be 'softmax'\n",
        "        # - apply activation function to every single output of the convolutional layer\n",
        "])\n",
        "\n",
        "model.compile(optimizer=\"rmsprop\",\n",
        "              loss=\"sparse_categorical_crossentropy\",\n",
        "              metrics=[\"accuracy\"])"
      ]
    },
    {
      "cell_type": "code",
      "source": [
        "history = model.fit(x_train, y_train, epochs=num_epochs, batch_size=batch_size, validation_split=0.2)\n",
        "  #(1) element-wise operation\n",
        "  #(2) check whether the training loss is going down (validation loss could fluctuate a little)"
      ],
      "metadata": {
        "colab": {
          "base_uri": "https://localhost:8080/"
        },
        "id": "Rhn_YwGZrPYL",
        "outputId": "57a3c79a-45f6-4176-e0b4-e593c015f509"
      },
      "execution_count": null,
      "outputs": [
        {
          "output_type": "stream",
          "name": "stdout",
          "text": [
            "Epoch 1/20\n",
            "188/188 [==============================] - 13s 8ms/step - loss: 1.9590 - accuracy: 0.2934 - val_loss: 1.2270 - val_accuracy: 0.5527\n",
            "Epoch 2/20\n",
            "188/188 [==============================] - 1s 6ms/step - loss: 1.0105 - accuracy: 0.6358 - val_loss: 0.8809 - val_accuracy: 0.6703\n",
            "Epoch 3/20\n",
            "188/188 [==============================] - 1s 6ms/step - loss: 0.8289 - accuracy: 0.6933 - val_loss: 0.7806 - val_accuracy: 0.7169\n",
            "Epoch 4/20\n",
            "188/188 [==============================] - 1s 6ms/step - loss: 0.7494 - accuracy: 0.7181 - val_loss: 0.7096 - val_accuracy: 0.7307\n",
            "Epoch 5/20\n",
            "188/188 [==============================] - 1s 6ms/step - loss: 0.6972 - accuracy: 0.7304 - val_loss: 0.6696 - val_accuracy: 0.7346\n",
            "Epoch 6/20\n",
            "188/188 [==============================] - 1s 6ms/step - loss: 0.6629 - accuracy: 0.7407 - val_loss: 0.6440 - val_accuracy: 0.7462\n",
            "Epoch 7/20\n",
            "188/188 [==============================] - 1s 5ms/step - loss: 0.6384 - accuracy: 0.7507 - val_loss: 0.6304 - val_accuracy: 0.7582\n",
            "Epoch 8/20\n",
            "188/188 [==============================] - 2s 8ms/step - loss: 0.6187 - accuracy: 0.7591 - val_loss: 0.5931 - val_accuracy: 0.7720\n",
            "Epoch 9/20\n",
            "188/188 [==============================] - 2s 9ms/step - loss: 0.6008 - accuracy: 0.7671 - val_loss: 0.6348 - val_accuracy: 0.7571\n",
            "Epoch 10/20\n",
            "188/188 [==============================] - 1s 7ms/step - loss: 0.5847 - accuracy: 0.7725 - val_loss: 0.5918 - val_accuracy: 0.7663\n",
            "Epoch 11/20\n",
            "188/188 [==============================] - 1s 6ms/step - loss: 0.5689 - accuracy: 0.7799 - val_loss: 0.5543 - val_accuracy: 0.7850\n",
            "Epoch 12/20\n",
            "188/188 [==============================] - 1s 6ms/step - loss: 0.5530 - accuracy: 0.7887 - val_loss: 0.5590 - val_accuracy: 0.7843\n",
            "Epoch 13/20\n",
            "188/188 [==============================] - 1s 6ms/step - loss: 0.5378 - accuracy: 0.7968 - val_loss: 0.5452 - val_accuracy: 0.7881\n",
            "Epoch 14/20\n",
            "188/188 [==============================] - 1s 6ms/step - loss: 0.5233 - accuracy: 0.8025 - val_loss: 0.5276 - val_accuracy: 0.8034\n",
            "Epoch 15/20\n",
            "188/188 [==============================] - 1s 6ms/step - loss: 0.5076 - accuracy: 0.8103 - val_loss: 0.5189 - val_accuracy: 0.8067\n",
            "Epoch 16/20\n",
            "188/188 [==============================] - 1s 6ms/step - loss: 0.4951 - accuracy: 0.8155 - val_loss: 0.4988 - val_accuracy: 0.8108\n",
            "Epoch 17/20\n",
            "188/188 [==============================] - 1s 6ms/step - loss: 0.4818 - accuracy: 0.8206 - val_loss: 0.5023 - val_accuracy: 0.8110\n",
            "Epoch 18/20\n",
            "188/188 [==============================] - 1s 6ms/step - loss: 0.4698 - accuracy: 0.8261 - val_loss: 0.5606 - val_accuracy: 0.7790\n",
            "Epoch 19/20\n",
            "188/188 [==============================] - 1s 7ms/step - loss: 0.4607 - accuracy: 0.8297 - val_loss: 0.4746 - val_accuracy: 0.8257\n",
            "Epoch 20/20\n",
            "188/188 [==============================] - 2s 8ms/step - loss: 0.4516 - accuracy: 0.8328 - val_loss: 0.4663 - val_accuracy: 0.8250\n"
          ]
        }
      ]
    },
    {
      "cell_type": "code",
      "source": [
        "model.summary()\n",
        "  #(1) help us to calculate how many parameters we have\n",
        "  #(2) dense layer: have much more parameters than convolutional layer"
      ],
      "metadata": {
        "colab": {
          "base_uri": "https://localhost:8080/"
        },
        "id": "RaGZY1vItuE_",
        "outputId": "3eb5a469-cd9f-4641-d06d-30253d27953d"
      },
      "execution_count": null,
      "outputs": [
        {
          "output_type": "stream",
          "name": "stdout",
          "text": [
            "Model: \"sequential\"\n",
            "_________________________________________________________________\n",
            " Layer (type)                Output Shape              Param #   \n",
            "=================================================================\n",
            " conv2d (Conv2D)             (None, 28, 28, 6)         156       \n",
            "                                                                 \n",
            " average_pooling2d (Average  (None, 14, 14, 6)         0         \n",
            " Pooling2D)                                                      \n",
            "                                                                 \n",
            " conv2d_1 (Conv2D)           (None, 10, 10, 16)        2416      \n",
            "                                                                 \n",
            " average_pooling2d_1 (Avera  (None, 5, 5, 16)          0         \n",
            " gePooling2D)                                                    \n",
            "                                                                 \n",
            " flatten (Flatten)           (None, 400)               0         \n",
            "                                                                 \n",
            " dense (Dense)               (None, 120)               48120     \n",
            "                                                                 \n",
            " dense_1 (Dense)             (None, 84)                10164     \n",
            "                                                                 \n",
            " dense_2 (Dense)             (None, 10)                850       \n",
            "                                                                 \n",
            "=================================================================\n",
            "Total params: 61706 (241.04 KB)\n",
            "Trainable params: 61706 (241.04 KB)\n",
            "Non-trainable params: 0 (0.00 Byte)\n",
            "_________________________________________________________________\n"
          ]
        }
      ]
    },
    {
      "cell_type": "code",
      "source": [
        "import matplotlib.pyplot as plt\n",
        "\n",
        "val_acc = history.history[\"val_accuracy\"]\n",
        "acc = history.history[\"accuracy\"]\n",
        "epochs = range(1, 21)\n",
        "plt.plot(epochs, val_acc, \"b--\",\n",
        "         label=\"Validation loss\")\n",
        "plt.plot(epochs, acc, \"b\",\n",
        "         label=\"Training loss\")\n",
        "plt.title(\"Training and Validation Accuracies on Fashion MNIST\")\n",
        "plt.xlabel(\"Epochs\")\n",
        "plt.ylabel(\"Accuracy\")\n",
        "plt.legend()\n",
        "plt.show()"
      ],
      "metadata": {
        "colab": {
          "base_uri": "https://localhost:8080/",
          "height": 493
        },
        "id": "3W831M8GwQGt",
        "outputId": "7c3ccd42-80f0-402c-f509-600572bbd4bd"
      },
      "execution_count": null,
      "outputs": [
        {
          "output_type": "display_data",
          "data": {
            "text/plain": [
              "<Figure size 640x480 with 1 Axes>"
            ],
            "image/png": "[encoded data removed]"
          },
          "metadata": {}
        }
      ]
    },
    {
      "cell_type": "code",
      "source": [
        "model.evaluate(x_test, y_test)"
      ],
      "metadata": {
        "colab": {
          "base_uri": "https://localhost:8080/"
        },
        "id": "9qrYdOoctyF8",
        "outputId": "12ff038f-76d6-4fc3-cdfe-ecc2b95a86d9"
      },
      "execution_count": null,
      "outputs": [
        {
          "output_type": "stream",
          "name": "stdout",
          "text": [
            "313/313 [==============================] - 2s 5ms/step - loss: 0.4870 - accuracy: 0.8191\n"
          ]
        },
        {
          "output_type": "execute_result",
          "data": {
            "text/plain": [
              "[0.4870235323905945, 0.819100022315979]"
            ]
          },
          "metadata": {},
          "execution_count": 9
        }
      ]
    },
    {
      "cell_type": "markdown",
      "source": [
        "## Function API"
      ],
      "metadata": {
        "id": "eZau-NKCf8rj"
      }
    },
    {
      "cell_type": "markdown",
      "source": [
        "We have only used the Sequential API in Keras to build deep learning model. However, there are two more choices:\n",
        "\n",
        "- Functional API\n",
        "- Model subclassing\n",
        "\n",
        "Let's look at each of them to redo the LeNet example above. If your architecture is not just a simple linear sequence of layers, you cannot use the Sequential API. A common use case is **residual connections**. For example, see this [toy ResNet model](https://keras.io/guides/functional_api/#a-toy-resnet-model)."
      ],
      "metadata": {
        "id": "rbfN0BtZgLHA"
      }
    },
    {
      "cell_type": "code",
      "source": [
        "# model = keras.Sequential([\n",
        "#     layers.Conv2D(filters=6, kernel_size=5, activation='sigmoid',\n",
        "#                   padding='same', input_shape=(28, 28, 1)),\n",
        "#     layers.AvgPool2D(pool_size=2, strides=2),\n",
        "#     layers.Conv2D(filters=16, kernel_size=5, activation='sigmoid'),\n",
        "#     layers.AvgPool2D(pool_size=2, strides=2),\n",
        "#     layers.Flatten(),\n",
        "#     layers.Dense(120, activation='sigmoid'),\n",
        "#     layers.Dense(84, activation='sigmoid'),\n",
        "#     layers.Dense(10, activation='softmax')\n",
        "# ])\n"
      ],
      "metadata": {
        "id": "kOIKoMbz3FFe"
      },
      "execution_count": null,
      "outputs": []
    },
    {
      "cell_type": "code",
      "source": [
        "inputs = keras.Input(shape=(28,28,1))\n",
        "  #(1) define input & operation as functions\n",
        "\n",
        "conv1 = layers.Conv2D(filters=6, kernel_size=5, activation='sigmoid', padding='same')\n",
        "x = conv1(inputs)\n",
        "  #(2) defining the output x\n",
        "\n",
        "pool1 = layers.AvgPool2D(pool_size=2, strides=2)\n",
        "x = pool1(x)\n",
        "  #(3) giving the new output\n",
        "\n",
        "conv2 = layers.Conv2D(filters=16, kernel_size=5, activation='sigmoid')\n",
        "x = conv2(x)\n",
        "\n",
        "pool2 = layers.AvgPool2D(pool_size=2, strides=2)\n",
        "x = pool2(x)\n",
        "\n",
        "flatten = layers.Flatten()\n",
        "x = flatten(x)\n",
        "\n",
        "fc1 = layers.Dense(120, activation='sigmoid')\n",
        "x = fc1(x)\n",
        "\n",
        "fc2 = layers.Dense(84, activation='sigmoid')\n",
        "x = fc2(x)\n",
        "\n",
        "fc3 = layers.Dense(10, activation='softmax')\n",
        "outputs = fc3(x)\n",
        "\n",
        "model = keras.Model(inputs=inputs, outputs=outputs, name=\"LeNet_model\")"
      ],
      "metadata": {
        "id": "Jkps7yK3gn-z"
      },
      "execution_count": null,
      "outputs": []
    },
    {
      "cell_type": "code",
      "source": [
        "model.summary()"
      ],
      "metadata": {
        "id": "fnqa-r4Niq7i",
        "outputId": "686b390f-92f5-462e-b5ea-6c32dd9cb520",
        "colab": {
          "base_uri": "https://localhost:8080/"
        }
      },
      "execution_count": null,
      "outputs": [
        {
          "output_type": "stream",
          "name": "stdout",
          "text": [
            "Model: \"LeNet_model\"\n",
            "_________________________________________________________________\n",
            " Layer (type)                Output Shape              Param #   \n",
            "=================================================================\n",
            " input_1 (InputLayer)        [(None, 28, 28, 1)]       0         \n",
            "                                                                 \n",
            " conv2d_2 (Conv2D)           (None, 28, 28, 6)         156       \n",
            "                                                                 \n",
            " average_pooling2d_2 (Avera  (None, 14, 14, 6)         0         \n",
            " gePooling2D)                                                    \n",
            "                                                                 \n",
            " conv2d_3 (Conv2D)           (None, 10, 10, 16)        2416      \n",
            "                                                                 \n",
            " average_pooling2d_3 (Avera  (None, 5, 5, 16)          0         \n",
            " gePooling2D)                                                    \n",
            "                                                                 \n",
            " flatten_1 (Flatten)         (None, 400)               0         \n",
            "                                                                 \n",
            " dense_3 (Dense)             (None, 120)               48120     \n",
            "                                                                 \n",
            " dense_4 (Dense)             (None, 84)                10164     \n",
            "                                                                 \n",
            " dense_5 (Dense)             (None, 10)                850       \n",
            "                                                                 \n",
            "=================================================================\n",
            "Total params: 61706 (241.04 KB)\n",
            "Trainable params: 61706 (241.04 KB)\n",
            "Non-trainable params: 0 (0.00 Byte)\n",
            "_________________________________________________________________\n"
          ]
        }
      ]
    },
    {
      "cell_type": "code",
      "source": [
        "keras.utils.plot_model(model, show_shapes=True)\n",
        "  #(1) output for every single layer I've specified -> visualize everything"
      ],
      "metadata": {
        "id": "l_DoDY63ixoI",
        "outputId": "abff9264-0d3f-42a7-cf4b-29139b0089c7",
        "colab": {
          "base_uri": "https://localhost:8080/",
          "height": 997
        }
      },
      "execution_count": null,
      "outputs": [
        {
          "output_type": "execute_result",
          "data": {
            "image/png": "[encoded data removed]",
            "text/plain": [
              "<IPython.core.display.Image object>"
            ]
          },
          "metadata": {},
          "execution_count": 13
        }
      ]
    },
    {
      "cell_type": "markdown",
      "source": [
        "Model fitting works exactly the same as with sequential API."
      ],
      "metadata": {
        "id": "bEHDW64fjJEZ"
      }
    },
    {
      "cell_type": "code",
      "source": [
        "model.compile(optimizer=\"rmsprop\",\n",
        "              loss=\"sparse_categorical_crossentropy\",\n",
        "              metrics=[\"accuracy\"])"
      ],
      "metadata": {
        "id": "3n1xFD4gjRO5"
      },
      "execution_count": null,
      "outputs": []
    },
    {
      "cell_type": "code",
      "source": [
        "history = model.fit(x_train, y_train, epochs=num_epochs, batch_size=batch_size, validation_split=0.2)"
      ],
      "metadata": {
        "id": "QIOZEa3HjIWJ",
        "outputId": "e986f464-7279-4eac-add8-aaf75e7a01d6",
        "colab": {
          "base_uri": "https://localhost:8080/"
        }
      },
      "execution_count": null,
      "outputs": [
        {
          "output_type": "stream",
          "name": "stdout",
          "text": [
            "Epoch 1/20\n",
            "188/188 [==============================] - 2s 7ms/step - loss: 2.1387 - accuracy: 0.2225 - val_loss: 1.4914 - val_accuracy: 0.5228\n",
            "Epoch 2/20\n",
            "188/188 [==============================] - 1s 6ms/step - loss: 1.1285 - accuracy: 0.5988 - val_loss: 0.9326 - val_accuracy: 0.6749\n",
            "Epoch 3/20\n",
            "188/188 [==============================] - 1s 6ms/step - loss: 0.8590 - accuracy: 0.6848 - val_loss: 0.7977 - val_accuracy: 0.7050\n",
            "Epoch 4/20\n",
            "188/188 [==============================] - 1s 8ms/step - loss: 0.7620 - accuracy: 0.7155 - val_loss: 0.7134 - val_accuracy: 0.7350\n",
            "Epoch 5/20\n",
            "188/188 [==============================] - 2s 8ms/step - loss: 0.7068 - accuracy: 0.7292 - val_loss: 0.6782 - val_accuracy: 0.7408\n",
            "Epoch 6/20\n",
            "188/188 [==============================] - 1s 7ms/step - loss: 0.6719 - accuracy: 0.7402 - val_loss: 0.6629 - val_accuracy: 0.7322\n",
            "Epoch 7/20\n",
            "188/188 [==============================] - 1s 6ms/step - loss: 0.6452 - accuracy: 0.7504 - val_loss: 0.6160 - val_accuracy: 0.7574\n",
            "Epoch 8/20\n",
            "188/188 [==============================] - 1s 6ms/step - loss: 0.6204 - accuracy: 0.7598 - val_loss: 0.6311 - val_accuracy: 0.7527\n",
            "Epoch 9/20\n",
            "188/188 [==============================] - 1s 5ms/step - loss: 0.6004 - accuracy: 0.7693 - val_loss: 0.5770 - val_accuracy: 0.7843\n",
            "Epoch 10/20\n",
            "188/188 [==============================] - 1s 6ms/step - loss: 0.5768 - accuracy: 0.7785 - val_loss: 0.5599 - val_accuracy: 0.7893\n",
            "Epoch 11/20\n",
            "188/188 [==============================] - 1s 7ms/step - loss: 0.5570 - accuracy: 0.7881 - val_loss: 0.5534 - val_accuracy: 0.7848\n",
            "Epoch 12/20\n",
            "188/188 [==============================] - 1s 6ms/step - loss: 0.5379 - accuracy: 0.7950 - val_loss: 0.5501 - val_accuracy: 0.7917\n",
            "Epoch 13/20\n",
            "188/188 [==============================] - 1s 6ms/step - loss: 0.5197 - accuracy: 0.8037 - val_loss: 0.5018 - val_accuracy: 0.8096\n",
            "Epoch 14/20\n",
            "188/188 [==============================] - 1s 6ms/step - loss: 0.5026 - accuracy: 0.8120 - val_loss: 0.5048 - val_accuracy: 0.8075\n",
            "Epoch 15/20\n",
            "188/188 [==============================] - 1s 6ms/step - loss: 0.4878 - accuracy: 0.8173 - val_loss: 0.4996 - val_accuracy: 0.8088\n",
            "Epoch 16/20\n",
            "188/188 [==============================] - 1s 8ms/step - loss: 0.4741 - accuracy: 0.8234 - val_loss: 0.4844 - val_accuracy: 0.8156\n",
            "Epoch 17/20\n",
            "188/188 [==============================] - 2s 8ms/step - loss: 0.4627 - accuracy: 0.8292 - val_loss: 0.4626 - val_accuracy: 0.8277\n",
            "Epoch 18/20\n",
            "188/188 [==============================] - 1s 6ms/step - loss: 0.4546 - accuracy: 0.8313 - val_loss: 0.4484 - val_accuracy: 0.8340\n",
            "Epoch 19/20\n",
            "188/188 [==============================] - 1s 6ms/step - loss: 0.4432 - accuracy: 0.8376 - val_loss: 0.4417 - val_accuracy: 0.8328\n",
            "Epoch 20/20\n",
            "188/188 [==============================] - 1s 6ms/step - loss: 0.4358 - accuracy: 0.8409 - val_loss: 0.4400 - val_accuracy: 0.8376\n"
          ]
        }
      ]
    },
    {
      "cell_type": "markdown",
      "source": [
        "## Model Subclassing"
      ],
      "metadata": {
        "id": "1Hk3pBjcjlcb"
      }
    },
    {
      "cell_type": "code",
      "source": [
        "class LeNet_Model(keras.Model):\n",
        "    #(1) can absorb all the code into a class: so that we can automatically invoke the Lynette model\n",
        "      # - thus whenever we call the Lynette model: it will do the same operation\n",
        "\n",
        "  def __init__(self, num_classes, input_shape):\n",
        "    super(LeNet_Model, self).__init__()\n",
        "\n",
        "    self.conv1 = layers.Conv2D(filters=6, kernel_size=5, activation='sigmoid', padding='same', input_shape=input_shape)\n",
        "    self.pool1 = layers.AvgPool2D(pool_size=2, strides=2)\n",
        "    self.conv2 = layers.Conv2D(filters=16, kernel_size=5, activation='sigmoid')\n",
        "    self.pool2 = layers.AvgPool2D(pool_size=2, strides=2)\n",
        "    self.flatten = layers.Flatten()\n",
        "    self.fc1 = layers.Dense(120, activation='sigmoid')\n",
        "    self.fc2 = layers.Dense(84, activation='sigmoid')\n",
        "    self.fc3 = layers.Dense(num_classes, activation='softmax')\n",
        "\n",
        "  def call(self, inputs):\n",
        "      #(1) subsuming every single thing into this class\n",
        "    x = self.conv1(inputs)\n",
        "    x = self.pool1(x)\n",
        "    x = self.conv2(x)\n",
        "    x = self.pool2(x)\n",
        "    x = self.flatten(x)\n",
        "    x = self.fc1(x)\n",
        "    x = self.fc2(x)\n",
        "    outputs = self.fc3(x)\n",
        "    return outputs"
      ],
      "metadata": {
        "id": "3Sa-0_P6k_8c"
      },
      "execution_count": null,
      "outputs": []
    },
    {
      "cell_type": "code",
      "source": [
        "lenet_model = LeNet_Model(10, (None, 28, 28, 1))\n",
        "lenet_model.compile(optimizer=\"rmsprop\",\n",
        "              loss=\"sparse_categorical_crossentropy\",\n",
        "              metrics=[\"accuracy\"])"
      ],
      "metadata": {
        "id": "nCybvsrAnAqg"
      },
      "execution_count": null,
      "outputs": []
    },
    {
      "cell_type": "code",
      "source": [
        "x_train = tf.expand_dims(x_train, -1)\n",
        "x_train.shape"
      ],
      "metadata": {
        "id": "YfjmK4nHrg2c",
        "outputId": "fc1f056c-f57f-4e8b-8bbc-4d3c83e4a858",
        "colab": {
          "base_uri": "https://localhost:8080/"
        }
      },
      "execution_count": null,
      "outputs": [
        {
          "output_type": "execute_result",
          "data": {
            "text/plain": [
              "TensorShape([60000, 28, 28, 1])"
            ]
          },
          "metadata": {},
          "execution_count": 18
        }
      ]
    },
    {
      "cell_type": "code",
      "source": [
        "history = lenet_model.fit(x_train, y_train, epochs=num_epochs, batch_size=batch_size, validation_split=0.2)"
      ],
      "metadata": {
        "id": "8foENq7TnOEH",
        "outputId": "37165377-eba1-4567-a249-dbb92d9ef71b",
        "colab": {
          "base_uri": "https://localhost:8080/"
        }
      },
      "execution_count": null,
      "outputs": [
        {
          "output_type": "stream",
          "name": "stdout",
          "text": [
            "Epoch 1/20\n",
            "188/188 [==============================] - 3s 8ms/step - loss: 1.9683 - accuracy: 0.2964 - val_loss: 1.2294 - val_accuracy: 0.5786\n",
            "Epoch 2/20\n",
            "188/188 [==============================] - 1s 6ms/step - loss: 0.9883 - accuracy: 0.6466 - val_loss: 0.8335 - val_accuracy: 0.7057\n",
            "Epoch 3/20\n",
            "188/188 [==============================] - 1s 6ms/step - loss: 0.8037 - accuracy: 0.7045 - val_loss: 0.7430 - val_accuracy: 0.7221\n",
            "Epoch 4/20\n",
            "188/188 [==============================] - 1s 6ms/step - loss: 0.7281 - accuracy: 0.7236 - val_loss: 0.6909 - val_accuracy: 0.7410\n",
            "Epoch 5/20\n",
            "188/188 [==============================] - 1s 6ms/step - loss: 0.6841 - accuracy: 0.7358 - val_loss: 0.6652 - val_accuracy: 0.7352\n",
            "Epoch 6/20\n",
            "188/188 [==============================] - 1s 6ms/step - loss: 0.6560 - accuracy: 0.7458 - val_loss: 0.6546 - val_accuracy: 0.7395\n",
            "Epoch 7/20\n",
            "188/188 [==============================] - 1s 7ms/step - loss: 0.6335 - accuracy: 0.7559 - val_loss: 0.6176 - val_accuracy: 0.7626\n",
            "Epoch 8/20\n",
            "188/188 [==============================] - 2s 9ms/step - loss: 0.6138 - accuracy: 0.7620 - val_loss: 0.5975 - val_accuracy: 0.7725\n",
            "Epoch 9/20\n",
            "188/188 [==============================] - 3s 14ms/step - loss: 0.5975 - accuracy: 0.7704 - val_loss: 0.6074 - val_accuracy: 0.7634\n",
            "Epoch 10/20\n",
            "188/188 [==============================] - 2s 8ms/step - loss: 0.5810 - accuracy: 0.7766 - val_loss: 0.5639 - val_accuracy: 0.7871\n",
            "Epoch 11/20\n",
            "188/188 [==============================] - 1s 8ms/step - loss: 0.5666 - accuracy: 0.7835 - val_loss: 0.5525 - val_accuracy: 0.7778\n",
            "Epoch 12/20\n",
            "188/188 [==============================] - 1s 6ms/step - loss: 0.5505 - accuracy: 0.7891 - val_loss: 0.5506 - val_accuracy: 0.7912\n",
            "Epoch 13/20\n",
            "188/188 [==============================] - 1s 6ms/step - loss: 0.5374 - accuracy: 0.7960 - val_loss: 0.5312 - val_accuracy: 0.7967\n",
            "Epoch 14/20\n",
            "188/188 [==============================] - 1s 6ms/step - loss: 0.5230 - accuracy: 0.8026 - val_loss: 0.5087 - val_accuracy: 0.8084\n",
            "Epoch 15/20\n",
            "188/188 [==============================] - 1s 6ms/step - loss: 0.5082 - accuracy: 0.8085 - val_loss: 0.5023 - val_accuracy: 0.8039\n",
            "Epoch 16/20\n",
            "188/188 [==============================] - 1s 6ms/step - loss: 0.4953 - accuracy: 0.8134 - val_loss: 0.5022 - val_accuracy: 0.8083\n",
            "Epoch 17/20\n",
            "188/188 [==============================] - 1s 6ms/step - loss: 0.4823 - accuracy: 0.8200 - val_loss: 0.4897 - val_accuracy: 0.8177\n",
            "Epoch 18/20\n",
            "188/188 [==============================] - 1s 6ms/step - loss: 0.4711 - accuracy: 0.8242 - val_loss: 0.4962 - val_accuracy: 0.8106\n",
            "Epoch 19/20\n",
            "188/188 [==============================] - 1s 6ms/step - loss: 0.4586 - accuracy: 0.8273 - val_loss: 0.5144 - val_accuracy: 0.7979\n",
            "Epoch 20/20\n",
            "188/188 [==============================] - 1s 6ms/step - loss: 0.4510 - accuracy: 0.8324 - val_loss: 0.4910 - val_accuracy: 0.8144\n"
          ]
        }
      ]
    },
    {
      "cell_type": "markdown",
      "metadata": {
        "origin_pos": 20,
        "id": "aPeJcu_PmBQy"
      },
      "source": [
        "## Summary\n",
        "\n",
        "* A CNN is a network that employs convolutional layers.\n",
        "* In a CNN, we interleave convolutions, nonlinearities, and (often) pooling operations.\n",
        "* In a CNN, convolutional layers are typically arranged so that they gradually decrease the spatial resolution of the representations, while increasing the number of channels.\n",
        "* In traditional CNNs, the representations encoded by the convolutional blocks are processed by one or more fully-connected layers prior to emitting output.\n",
        "* LeNet was arguably the first successful deployment of such a network\n",
        "* In Keras, we can build models using the Sequential API, the Functional API, or Model Subclassing\n"
      ]
    }
  ],
  "metadata": {
    "accelerator": "GPU",
    "kernelspec": {
      "display_name": "Python 3",
      "name": "python3"
    },
    "language_info": {
      "name": "python"
    },
    "colab": {
      "provenance": [],
      "gpuType": "T4",
      "include_colab_link": true
    }
  },
  "nbformat": 4,
  "nbformat_minor": 0
}